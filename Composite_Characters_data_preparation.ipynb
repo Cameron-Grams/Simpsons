{
 "cells": [
  {
   "cell_type": "code",
   "execution_count": 1,
   "id": "72d5f176",
   "metadata": {},
   "outputs": [],
   "source": [
    "import os\n",
    "import pandas as pd\n",
    "import numpy as np\n",
    "import matplotlib.pyplot as plt\n",
    "import altair as alt"
   ]
  },
  {
   "cell_type": "code",
   "execution_count": 2,
   "id": "e992fbef",
   "metadata": {},
   "outputs": [],
   "source": [
    "# original data from \n",
    "# https://data.world/data-society/the-simpsons-by-the-data"
   ]
  },
  {
   "cell_type": "code",
   "execution_count": 3,
   "id": "a0be4654",
   "metadata": {},
   "outputs": [
    {
     "name": "stderr",
     "output_type": "stream",
     "text": [
      "b'Skipping line 8084: expected 13 fields, saw 20\\nSkipping line 52607: expected 13 fields, saw 21\\nSkipping line 59910: expected 13 fields, saw 21\\n'\n",
      "b'Skipping line 71801: expected 13 fields, saw 20\\nSkipping line 73539: expected 13 fields, saw 21\\nSkipping line 77230: expected 13 fields, saw 21\\nSkipping line 78953: expected 13 fields, saw 21\\nSkipping line 81138: expected 13 fields, saw 20\\nSkipping line 86746: expected 13 fields, saw 22\\nSkipping line 101154: expected 13 fields, saw 21\\nSkipping line 115438: expected 13 fields, saw 20\\nSkipping line 117573: expected 13 fields, saw 22\\nSkipping line 130610: expected 13 fields, saw 22\\n'\n",
      "b'Skipping line 152970: expected 13 fields, saw 22\\nSkipping line 153017: expected 13 fields, saw 20\\nSkipping line 153018: expected 13 fields, saw 30\\nSkipping line 154080: expected 13 fields, saw 20\\nSkipping line 154082: expected 13 fields, saw 20\\nSkipping line 154084: expected 13 fields, saw 20\\nSkipping line 154086: expected 13 fields, saw 20\\nSkipping line 154089: expected 13 fields, saw 23\\nSkipping line 154165: expected 13 fields, saw 21\\nSkipping line 156872: expected 13 fields, saw 20\\n'\n",
      "/home/cameron/anaconda3/lib/python3.8/site-packages/IPython/core/interactiveshell.py:3165: DtypeWarning: Columns (4,5,6) have mixed types.Specify dtype option on import or set low_memory=False.\n",
      "  has_raised = await self.run_ast_nodes(code_ast.body, cell_name,\n"
     ]
    }
   ],
   "source": [
    "# character names and ids\n",
    "df_ch = pd.read_csv('./data/simpsons_characters.csv', error_bad_lines=False)\n",
    "\n",
    "# memorable lines spoken\n",
    "df_l = pd.read_csv('./data/simpsons_script_lines.csv', error_bad_lines=False)\n",
    "\n",
    "# episodes \n",
    "df_ep = pd.read_csv('./data/simpsons_episodes.csv', error_bad_lines=False)\n",
    "\n",
    "# did not use the location data"
   ]
  },
  {
   "cell_type": "code",
   "execution_count": 4,
   "id": "64e11d5f",
   "metadata": {},
   "outputs": [
    {
     "name": "stdout",
     "output_type": "stream",
     "text": [
      "(6722, 4)\n"
     ]
    }
   ],
   "source": [
    "#df_l.head()\n",
    "print(df_ch.shape)\n",
    "df_ch = df_ch.sort_values(['id'])\n",
    "# df_ch.head(30)"
   ]
  },
  {
   "cell_type": "markdown",
   "id": "6e79181f",
   "metadata": {},
   "source": [
    "## Get the characters with the most, middle, and least memborable lines"
   ]
  },
  {
   "cell_type": "code",
   "execution_count": 5,
   "id": "247d993b",
   "metadata": {},
   "outputs": [],
   "source": [
    "def create_ints_for_ids(x):\n",
    "    try:\n",
    "        number = int(x['character_id'])\n",
    "        x['character_id'] = number\n",
    "    except:\n",
    "        x['character_id'] = 9999\n",
    "    return x"
   ]
  },
  {
   "cell_type": "code",
   "execution_count": 6,
   "id": "d391b31d",
   "metadata": {},
   "outputs": [],
   "source": [
    "# ensure all character ids are ints\n",
    "df_l= df_l.apply(lambda x: create_ints_for_ids(x), axis=1)\n",
    "# df_l.head()"
   ]
  },
  {
   "cell_type": "code",
   "execution_count": 7,
   "id": "5afbb451",
   "metadata": {},
   "outputs": [],
   "source": [
    "# collect the list of characters with the most and least memorable lines\n",
    "# df_lc['character_id'].astype('int')\n",
    "df_lc = df_l.groupby(['character_id'])['spoken_words'].count()\n",
    "df_lc = pd.DataFrame(df_lc)\n",
    "df_lc = df_lc.reset_index()\n",
    "# df_lc['character_id'].astype('int')\n",
    "df_lc = df_lc.sort_values(['spoken_words'], ascending=False)\n",
    "# df_lc.head(20)"
   ]
  },
  {
   "cell_type": "code",
   "execution_count": 8,
   "id": "1900b965",
   "metadata": {},
   "outputs": [],
   "source": [
    "def add_names(x, df_ch= df_ch):\n",
    "    try:\n",
    "        number = int(x['character_id'])\n",
    "        character = df_ch[df_ch['id'] == number]['name']\n",
    "        x['name'] = list(character)[0]\n",
    "        x['character_id'] = number\n",
    "    except:\n",
    "        x['character_id'] = 9999\n",
    "        x['name'] = 'unknown'\n",
    "    return x"
   ]
  },
  {
   "cell_type": "code",
   "execution_count": 9,
   "id": "5b072519",
   "metadata": {},
   "outputs": [
    {
     "data": {
      "text/html": [
       "<div>\n",
       "<style scoped>\n",
       "    .dataframe tbody tr th:only-of-type {\n",
       "        vertical-align: middle;\n",
       "    }\n",
       "\n",
       "    .dataframe tbody tr th {\n",
       "        vertical-align: top;\n",
       "    }\n",
       "\n",
       "    .dataframe thead th {\n",
       "        text-align: right;\n",
       "    }\n",
       "</style>\n",
       "<table border=\"1\" class=\"dataframe\">\n",
       "  <thead>\n",
       "    <tr style=\"text-align: right;\">\n",
       "      <th></th>\n",
       "      <th>character_id</th>\n",
       "      <th>spoken_words</th>\n",
       "      <th>name</th>\n",
       "    </tr>\n",
       "  </thead>\n",
       "  <tbody>\n",
       "    <tr>\n",
       "      <th>1</th>\n",
       "      <td>2</td>\n",
       "      <td>28166</td>\n",
       "      <td>Homer Simpson</td>\n",
       "    </tr>\n",
       "    <tr>\n",
       "      <th>0</th>\n",
       "      <td>1</td>\n",
       "      <td>13289</td>\n",
       "      <td>Marge Simpson</td>\n",
       "    </tr>\n",
       "    <tr>\n",
       "      <th>7</th>\n",
       "      <td>8</td>\n",
       "      <td>13200</td>\n",
       "      <td>Bart Simpson</td>\n",
       "    </tr>\n",
       "    <tr>\n",
       "      <th>8</th>\n",
       "      <td>9</td>\n",
       "      <td>10893</td>\n",
       "      <td>Lisa Simpson</td>\n",
       "    </tr>\n",
       "    <tr>\n",
       "      <th>14</th>\n",
       "      <td>15</td>\n",
       "      <td>3121</td>\n",
       "      <td>C. Montgomery Burns</td>\n",
       "    </tr>\n",
       "  </tbody>\n",
       "</table>\n",
       "</div>"
      ],
      "text/plain": [
       "    character_id  spoken_words                 name\n",
       "1              2         28166        Homer Simpson\n",
       "0              1         13289        Marge Simpson\n",
       "7              8         13200         Bart Simpson\n",
       "8              9         10893         Lisa Simpson\n",
       "14            15          3121  C. Montgomery Burns"
      ]
     },
     "execution_count": 9,
     "metadata": {},
     "output_type": "execute_result"
    }
   ],
   "source": [
    "df_lc = df_lc.apply(lambda x: add_names(x), axis=1)\n",
    "df_lc.head()"
   ]
  },
  {
   "cell_type": "code",
   "execution_count": 10,
   "id": "289fd877",
   "metadata": {},
   "outputs": [
    {
     "data": {
      "text/plain": [
       "6720"
      ]
     },
     "execution_count": 10,
     "metadata": {},
     "output_type": "execute_result"
    }
   ],
   "source": [
    "len(df_lc)"
   ]
  },
  {
   "cell_type": "markdown",
   "id": "964b55f4",
   "metadata": {},
   "source": [
    "### Characters with memorable lines broken down into thirds"
   ]
  },
  {
   "cell_type": "code",
   "execution_count": 11,
   "id": "5f1f985e",
   "metadata": {},
   "outputs": [
    {
     "data": {
      "text/plain": [
       "20"
      ]
     },
     "execution_count": 11,
     "metadata": {},
     "output_type": "execute_result"
    }
   ],
   "source": [
    "# most memorable lines\n",
    "df_l_top = df_lc.iloc[:20, :]\n",
    "# df_l_top\n",
    "len(df_l_top)"
   ]
  },
  {
   "cell_type": "code",
   "execution_count": 12,
   "id": "0a5a3b61",
   "metadata": {},
   "outputs": [
    {
     "data": {
      "text/plain": [
       "20"
      ]
     },
     "execution_count": 12,
     "metadata": {},
     "output_type": "execute_result"
    }
   ],
   "source": [
    "# middle most memorable lines\n",
    "df_l_mid = df_lc[df_lc['spoken_words'] < 600]\n",
    "df_l_mid = df_l_mid[df_l_mid['spoken_words'] > 250]\n",
    "len(df_l_mid)\n"
   ]
  },
  {
   "cell_type": "code",
   "execution_count": 13,
   "id": "e209f9cb",
   "metadata": {},
   "outputs": [],
   "source": [
    "# least most memorable lines\n",
    "df_l_low = df_lc[df_lc['spoken_words'] < 250]\n",
    "# df_l_low"
   ]
  },
  {
   "cell_type": "code",
   "execution_count": 14,
   "id": "deab6936",
   "metadata": {},
   "outputs": [
    {
     "data": {
      "text/plain": [
       "6680"
      ]
     },
     "execution_count": 14,
     "metadata": {},
     "output_type": "execute_result"
    }
   ],
   "source": [
    "len(df_l_low)"
   ]
  },
  {
   "cell_type": "code",
   "execution_count": 15,
   "id": "6e20d6e5",
   "metadata": {},
   "outputs": [],
   "source": [
    "# tuples representing the (character_id, name) for each of the thirds\n",
    "high = df_l_top.apply(lambda x: x['name'], axis=1)\n",
    "mid = df_l_mid.apply(lambda x: x['name'], axis=1)\n",
    "low = df_l_low.apply(lambda x: x['name'], axis=1)[:60]"
   ]
  },
  {
   "cell_type": "code",
   "execution_count": 16,
   "id": "9aad69eb",
   "metadata": {},
   "outputs": [
    {
     "data": {
      "text/plain": [
       "804                 Kirk Van Houten\n",
       "508                  Snake Jailbird\n",
       "1394                Cletus Spuckler\n",
       "418                    Troy McClure\n",
       "74                            Crowd\n",
       "145                           DOLPH\n",
       "4                     Todd Flanders\n",
       "342                     Lionel Hutz\n",
       "1096             Rainier Wolfcastle\n",
       "55                         Narrator\n",
       "456                     Miss Hoover\n",
       "2347                  Gil Gunderson\n",
       "1489                 The Rich Texan\n",
       "38                             Kids\n",
       "929     Captain Horatio McCallister\n",
       "409                            HERB\n",
       "1954     Manjula Nahasapeemapetilon\n",
       "213                    Judge Snyder\n",
       "120                    Rod Flanders\n",
       "304                  Maude Flanders\n",
       "270                  Jasper Beardly\n",
       "259                            Kang\n",
       "407                    Mona Simpson\n",
       "305                   Helen Lovejoy\n",
       "307                             Man\n",
       "344                Dr. Nick Riviera\n",
       "560                           Louie\n",
       "117                           Woman\n",
       "261                           Kodos\n",
       "581                Luann Van Houten\n",
       "89                            Eddie\n",
       "772                 Lurleen Lumpkin\n",
       "346              Blue-Haired Lawyer\n",
       "3819                 Declan Desmond\n",
       "3034                 Lindsay Naegle\n",
       "2256                        Duffman\n",
       "331               Roger Meyers, Jr.\n",
       "1433                 Old Jewish Man\n",
       "1416                          Luigi\n",
       "162                         Jacques\n",
       "4512                           Mary\n",
       "501                         MICHAEL\n",
       "5                       Dewey Largo\n",
       "1855               Brandine Del Roy\n",
       "6097                      Lady Gaga\n",
       "947                    Hans Moleman\n",
       "588          Rabbi Hyman Krustofsky\n",
       "908             Squeaky-Voiced Teen\n",
       "3474                           BUCK\n",
       "5917                 Annie Crawford\n",
       "367                      Artie Ziff\n",
       "1179               George H.W. Bush\n",
       "217                        Director\n",
       "337                        Scratchy\n",
       "236                           Marty\n",
       "123                        Salesman\n",
       "6160                    Dan Gillick\n",
       "348                           Larry\n",
       "95                Dr. Marvin Monroe\n",
       "27                            Clerk\n",
       "dtype: object"
      ]
     },
     "execution_count": 16,
     "metadata": {},
     "output_type": "execute_result"
    }
   ],
   "source": [
    "#mid\n",
    "low"
   ]
  },
  {
   "cell_type": "code",
   "execution_count": 17,
   "id": "dcbd2471",
   "metadata": {},
   "outputs": [],
   "source": [
    "# add a list to the character objects that is a tuple of (episode, lines from episode)"
   ]
  },
  {
   "cell_type": "markdown",
   "id": "0f189358",
   "metadata": {},
   "source": [
    "### Get character lines per episode"
   ]
  },
  {
   "cell_type": "code",
   "execution_count": 18,
   "id": "3dcfeec1",
   "metadata": {},
   "outputs": [],
   "source": [
    "# count lines per episode --> character object"
   ]
  },
  {
   "cell_type": "code",
   "execution_count": 19,
   "id": "a10a17bc",
   "metadata": {},
   "outputs": [],
   "source": [
    "# df_l.sample(10)"
   ]
  },
  {
   "cell_type": "code",
   "execution_count": 20,
   "id": "dfe1971a",
   "metadata": {},
   "outputs": [
    {
     "data": {
      "text/plain": [
       "(158248, 13)"
      ]
     },
     "execution_count": 20,
     "metadata": {},
     "output_type": "execute_result"
    }
   ],
   "source": [
    "df_l.shape"
   ]
  },
  {
   "cell_type": "code",
   "execution_count": 21,
   "id": "67e4ec89",
   "metadata": {},
   "outputs": [],
   "source": [
    "df_one = df_l.iloc[:10000, :]\n",
    "df_two = df_l.iloc[10000:20000, :]\n",
    "df_three = df_l.iloc[20000:30000, :]\n",
    "df_four = df_l.iloc[30000:40000, :]\n",
    "df_five = df_l.iloc[40000:50000, :]\n",
    "df_six = df_l.iloc[50000:60000, :]\n",
    "df_seven = df_l.iloc[60000:70000, :]\n",
    "df_eight = df_l.iloc[70000:80000, :]\n",
    "df_nine = df_l.iloc[80000:90000, :]\n",
    "df_ten = df_l.iloc[90000:100000, :]\n",
    "df_eleven = df_l.iloc[100000:110000, :]\n",
    "df_twelve = df_l.iloc[110000:120000, :]\n",
    "df_thirteen = df_l.iloc[120000:130000, :]\n",
    "df_fourteen = df_l.iloc[130000:140000, :]\n",
    "df_fifteen = df_l.iloc[140000:145000, :]\n",
    "df_sixteen = df_l.iloc[150000:, :]"
   ]
  },
  {
   "cell_type": "code",
   "execution_count": 22,
   "id": "21b15995",
   "metadata": {},
   "outputs": [],
   "source": [
    "def character_episode_lines(character_df, df_l=df_l):\n",
    "    \n",
    "    episodes = list(df_l['episode_id'].unique())\n",
    "    character_df[episodes] = 0\n",
    "    print(character_df.shape)\n",
    "\n",
    "    for i in range(len(df_l)):\n",
    "        try:\n",
    "            character = df_l.iloc[i, 8]\n",
    "            episode = df_l.iloc[i, 1]\n",
    "\n",
    "            character_df.loc[character, episode] += 1       \n",
    "        except:\n",
    "            continue\n",
    "\n",
    "    character_df = character_df.dropna()\n",
    "    character_df = character_df.drop('placeholder', axis=1)\n",
    "\n",
    "    return character_df"
   ]
  },
  {
   "cell_type": "code",
   "execution_count": 23,
   "id": "7c83dff3",
   "metadata": {},
   "outputs": [],
   "source": [
    "def create_character_df(chars):\n",
    "    empty_column = np.zeros(len(chars))\n",
    "    character_df = pd.DataFrame({'placeholder': empty_column}, index=chars)\n",
    "    return character_df"
   ]
  },
  {
   "cell_type": "code",
   "execution_count": 24,
   "id": "0364747f",
   "metadata": {},
   "outputs": [],
   "source": [
    "def create_character_csv(df, character_scope, line_df_portion):\n",
    "    \"\"\"\n",
    "    df is the character line counted by episode portion of the total lines\n",
    "    character_scope and line_df_portion are strings specifying what part of the total lines\n",
    "        df is counted\n",
    "    \"\"\"\n",
    "    df = df.reset_index()\n",
    "    df = df.rename({'index': 'name tuple'}, axis=1)\n",
    "    \n",
    "    file_name = f\"./data/many_csv/{character_scope}/{character_scope}_{line_df_portion}.csv\"\n",
    "    df.to_csv(file_name, index=False)\n",
    "    \n",
    "    return(\"created: \", file_name)"
   ]
  },
  {
   "cell_type": "code",
   "execution_count": 25,
   "id": "3f7ec5bb",
   "metadata": {},
   "outputs": [],
   "source": [
    "portion_list = [(df_one, 'one'), (df_two, 'two'), (df_three, 'three'), (df_four, 'four'), (df_five, 'five'),\n",
    "                (df_six, 'six'), (df_seven, 'seven'), (df_eight, 'eight'), (df_nine, 'nine'), (df_ten, 'ten'), \n",
    "                (df_eleven, 'eleven'), (df_twelve, 'twelve'), (df_thirteen, 'thirteen'), (df_fourteen, 'fourteen'),\n",
    "                (df_sixteen, 'sixteen')]"
   ]
  },
  {
   "cell_type": "code",
   "execution_count": 26,
   "id": "6eed1312",
   "metadata": {},
   "outputs": [],
   "source": [
    "def create_third_csv(third, string_name_third, portion_list):\n",
    "    \"\"\"\n",
    "    arguments:\n",
    "    - third is the list of (id, name) tuples for the third of the characters \n",
    "    - string name of the third is a parameter entered explicitly \n",
    "    - portion_list is the list of tuples (<df name>, string of df name) specfiying\n",
    "        which part of the overall memorable line dataframe being worked with\n",
    "\n",
    "    Secondary Effects:\n",
    "    - function creates the csv files in the specified folder for each portion of the third\n",
    "\n",
    "    returns:\n",
    "    - string stating how many csv files were created\n",
    "    \"\"\"\n",
    "    count = 0\n",
    "    \n",
    "    for d in portion_list:\n",
    "        # blank dataframe to work from, need empty df each time\n",
    "        df_ = create_character_df(third)\n",
    "        df_lines = character_episode_lines(df_, d[0])\n",
    "        create_character_csv(df_lines, string_name_third, d[1])\n",
    "        count += 1\n",
    "        \n",
    "    return(f\"created {count} csv files.\")"
   ]
  },
  {
   "cell_type": "markdown",
   "id": "5a7f097e",
   "metadata": {},
   "source": [
    "### The command to create the partial csv for the Third"
   ]
  },
  {
   "cell_type": "code",
   "execution_count": 27,
   "id": "af9391cd",
   "metadata": {},
   "outputs": [
    {
     "name": "stdout",
     "output_type": "stream",
     "text": [
      "(60, 49)\n",
      "(60, 37)\n",
      "(60, 41)\n",
      "(60, 40)\n",
      "(60, 41)\n",
      "(60, 34)\n",
      "(60, 35)\n",
      "(60, 38)\n",
      "(60, 39)\n",
      "(60, 43)\n",
      "(60, 41)\n",
      "(60, 48)\n",
      "(60, 40)\n",
      "(60, 42)\n",
      "(60, 57)\n"
     ]
    },
    {
     "data": {
      "text/plain": [
       "'created 15 csv files.'"
      ]
     },
     "execution_count": 27,
     "metadata": {},
     "output_type": "execute_result"
    }
   ],
   "source": [
    "# create_third_csv(low, 'low', portion_list)"
   ]
  },
  {
   "cell_type": "markdown",
   "id": "02ce67ef",
   "metadata": {},
   "source": [
    "#### The fifteenth block has some issues and needs special consideration"
   ]
  },
  {
   "cell_type": "code",
   "execution_count": 28,
   "id": "cd91af3d",
   "metadata": {},
   "outputs": [],
   "source": [
    "#df = create_character_df(low)"
   ]
  },
  {
   "cell_type": "code",
   "execution_count": 29,
   "id": "d8882c02",
   "metadata": {},
   "outputs": [
    {
     "data": {
      "text/plain": [
       "4120"
      ]
     },
     "execution_count": 29,
     "metadata": {},
     "output_type": "execute_result"
    }
   ],
   "source": [
    "# df_fif = df_fifteen.dropna()\n",
    "# len(df_fif)"
   ]
  },
  {
   "cell_type": "code",
   "execution_count": 30,
   "id": "d093eb85",
   "metadata": {},
   "outputs": [
    {
     "name": "stdout",
     "output_type": "stream",
     "text": [
      "(60, 21)\n"
     ]
    }
   ],
   "source": [
    "# df_l = character_episode_lines(df, df_fif)"
   ]
  },
  {
   "cell_type": "code",
   "execution_count": 31,
   "id": "cc31dd47",
   "metadata": {},
   "outputs": [
    {
     "data": {
      "text/plain": [
       "('created: ', './data/many_csv/low/low_fifteen.csv')"
      ]
     },
     "execution_count": 31,
     "metadata": {},
     "output_type": "execute_result"
    }
   ],
   "source": [
    "# create_character_csv(df_l, 'low', 'fifteen')"
   ]
  },
  {
   "cell_type": "markdown",
   "id": "8ee64d9f",
   "metadata": {},
   "source": [
    "## Combine CSVs into thirds"
   ]
  },
  {
   "cell_type": "code",
   "execution_count": 32,
   "id": "53ab8e81",
   "metadata": {},
   "outputs": [],
   "source": [
    "def combine_csv_files(df_one, df_two):\n",
    "\n",
    "    \"\"\"\n",
    "    df_one has to be the dataframe with a larger number of columns\n",
    "    \"\"\"\n",
    "\n",
    "    if len(df_one) != len(df_two):\n",
    "        return(\"Problem with selection of thirds\")\n",
    "\n",
    "    cols = list(df_two.columns)\n",
    "\n",
    "    for c in cols:\n",
    "        try:\n",
    "            df_one[c] += df_two[c]\n",
    "        except:\n",
    "            df_one[c] = df_two[c]\n",
    "\n",
    "    return df_one"
   ]
  },
  {
   "cell_type": "code",
   "execution_count": 33,
   "id": "0f62f972",
   "metadata": {},
   "outputs": [],
   "source": [
    "high_csv_files = ['high_eight.csv', 'high_five.csv', 'high_nine.csv', 'high_six.csv', 'high_thirteen.csv', 'high_two.csv', \n",
    "                  'high_eleven.csv', 'high_four.csv', 'high_one.csv', 'high_sixteen.csv', 'high_three.csv',\n",
    "                  'high_fifteen.csv', 'high_fourteen.csv', 'high_seven.csv', 'high_ten.csv', 'high_twelve.csv']"
   ]
  },
  {
   "cell_type": "code",
   "execution_count": 34,
   "id": "c33bb0aa",
   "metadata": {},
   "outputs": [],
   "source": [
    "mid_csv_files = ['mid_eight.csv', 'mid_five.csv', 'mid_nine.csv','mid_six.csv', 'mid_thirteen.csv',  \n",
    "                 'mid_two.csv', 'mid_eleven.csv', 'mid_four.csv', 'mid_one.csv', 'mid_sixteen.csv', 'mid_three.csv',\n",
    "                'mid_fifteen.csv', 'mid_fourteen.csv', 'mid_seven.csv', 'mid_ten.csv', 'mid_twelve.csv']\n",
    " "
   ]
  },
  {
   "cell_type": "code",
   "execution_count": 35,
   "id": "b7f6c235",
   "metadata": {},
   "outputs": [],
   "source": [
    "low_csv_files = ['low_eight.csv', 'low_five.csv', 'low_nine.csv', 'low_six.csv', 'low_thirteen.csv', 'low_two.csv',\n",
    "                 'low_eleven.csv', 'low_four.csv', 'low_one.csv', 'low_sixteen.csv', 'low_three.csv',\n",
    "                 'low_fifteen.csv', 'low_fourteen.csv', 'low_seven.csv', 'low_ten.csv', 'low_twelve.csv']"
   ]
  },
  {
   "cell_type": "code",
   "execution_count": 36,
   "id": "98dd81d4",
   "metadata": {
    "scrolled": true
   },
   "outputs": [],
   "source": [
    "high_path = \"./data/many_csv/high/\"\n",
    "mid_path = \"./data/many_csv/mid/\"\n",
    "low_path = \"./data/many_csv/low/\""
   ]
  },
  {
   "cell_type": "code",
   "execution_count": 37,
   "id": "a2eda04b",
   "metadata": {},
   "outputs": [],
   "source": [
    "def iterate_csv_files(path_name, csv_list):\n",
    "    df_one = pd.read_csv(path_name + csv_list[0])\n",
    "    df_one = df_one.set_index('name tuple')\n",
    " \n",
    "    for f in csv_list[1:]:\n",
    "        df_f = pd.read_csv(path_name + f)\n",
    "        df_f = df_f.set_index('name tuple')\n",
    "    \n",
    "        if len(df_one.columns) > len(df_f.columns):\n",
    "            df_one = combine_csv_files(df_one, df_f)\n",
    "        else:\n",
    "            df_one = combine_csv_files(df_f, df_one)\n",
    "        \n",
    "    return df_one"
   ]
  },
  {
   "cell_type": "code",
   "execution_count": 38,
   "id": "154eec87",
   "metadata": {},
   "outputs": [],
   "source": [
    "high_csv = iterate_csv_files(high_path, high_csv_files)"
   ]
  },
  {
   "cell_type": "code",
   "execution_count": 39,
   "id": "3d55fec6",
   "metadata": {},
   "outputs": [],
   "source": [
    "high_csv.to_csv('./data/combined_thirds/high_third.csv')"
   ]
  },
  {
   "cell_type": "code",
   "execution_count": 40,
   "id": "6636cd70",
   "metadata": {},
   "outputs": [],
   "source": [
    "mid_csv = iterate_csv_files(mid_path, mid_csv_files)"
   ]
  },
  {
   "cell_type": "code",
   "execution_count": 41,
   "id": "5bc60a52",
   "metadata": {},
   "outputs": [],
   "source": [
    "mid_csv.to_csv('./data/combined_thirds/mid_third.csv')"
   ]
  },
  {
   "cell_type": "code",
   "execution_count": 42,
   "id": "782048b4",
   "metadata": {},
   "outputs": [],
   "source": [
    "low_csv = iterate_csv_files(low_path, low_csv_files)"
   ]
  },
  {
   "cell_type": "code",
   "execution_count": 43,
   "id": "9b106a2f",
   "metadata": {},
   "outputs": [],
   "source": [
    "low_csv.to_csv('./data/combined_thirds/low_third.csv')"
   ]
  },
  {
   "cell_type": "code",
   "execution_count": null,
   "id": "ba8e07c7",
   "metadata": {},
   "outputs": [],
   "source": []
  }
 ],
 "metadata": {
  "kernelspec": {
   "display_name": "Python 3",
   "language": "python",
   "name": "python3"
  },
  "language_info": {
   "codemirror_mode": {
    "name": "ipython",
    "version": 3
   },
   "file_extension": ".py",
   "mimetype": "text/x-python",
   "name": "python",
   "nbconvert_exporter": "python",
   "pygments_lexer": "ipython3",
   "version": "3.8.8"
  }
 },
 "nbformat": 4,
 "nbformat_minor": 5
}
