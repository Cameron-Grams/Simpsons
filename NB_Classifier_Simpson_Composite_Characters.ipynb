{
 "cells": [
  {
   "cell_type": "markdown",
   "id": "475c9991",
   "metadata": {},
   "source": [
    "# Template for Gaussian NaiveBayes Comparison"
   ]
  },
  {
   "cell_type": "code",
   "execution_count": 1,
   "id": "d71cc55b",
   "metadata": {},
   "outputs": [],
   "source": [
    "import os\n",
    "import re\n",
    "import pandas as pd\n",
    "import numpy as np\n",
    "import matplotlib.pyplot as plt"
   ]
  },
  {
   "cell_type": "code",
   "execution_count": 2,
   "id": "372d7bed",
   "metadata": {},
   "outputs": [],
   "source": [
    "from sklearn.model_selection import train_test_split\n",
    "\n",
    "from sklearn.naive_bayes import GaussianNB\n",
    "from sklearn.dummy import DummyClassifier\n",
    "from sklearn.metrics import precision_recall_curve, roc_curve, roc_auc_score\n",
    "\n",
    "from sklearn.model_selection import cross_validate, KFold"
   ]
  },
  {
   "cell_type": "code",
   "execution_count": 3,
   "id": "5d4db69b",
   "metadata": {},
   "outputs": [],
   "source": [
    "np.random.seed(0)"
   ]
  },
  {
   "cell_type": "markdown",
   "id": "2e7fdb7a",
   "metadata": {},
   "source": [
    "## Assessment of the Gaussian Naive Bayes Classifier"
   ]
  },
  {
   "cell_type": "code",
   "execution_count": 4,
   "id": "b179d17c",
   "metadata": {},
   "outputs": [],
   "source": [
    "def classifier_assessment(X, y, priors=None):\n",
    "    \"\"\"\n",
    "    GaussianNB comparison for the different datasets\n",
    "\n",
    "    args: X dataset of features\n",
    "          y target set of values for classification\n",
    "\n",
    "    returns: \n",
    "        - a dummy classifier score using \"most frequent\" value assignment\n",
    "        - the mean of the Gaussian NaiveBayes Claffifier prediction scores taken from a \n",
    "          5 fold cross validation on the dataset\n",
    "    \"\"\"\n",
    "    \n",
    "    clf_nb = GaussianNB(priors=priors)\n",
    "    \n",
    "    print(f\"Using prior probability: {priors}\")\n",
    "    \n",
    "    def performance_graphics(X=X, y=y, clf=clf_nb):\n",
    "        \n",
    "        X_train, X_test, y_train, y_test = train_test_split(X, y, random_state=0)\n",
    "        clf.fit(X_train, y_train)\n",
    "     \n",
    "        proba_ = clf.predict_proba(X_test)[:, 1]\n",
    "\n",
    "        precision, recall, thresholds = precision_recall_curve(y_test, proba_)\n",
    "        fp, tp, thresholds_roc = roc_curve(y_test, proba_)\n",
    "        \n",
    "        auc_score = np.round(roc_auc_score(y_test, proba_), 4)\n",
    "\n",
    "        close_default = np.argmin(np.abs(thresholds - 0.5))\n",
    "        close_zero = np.argmin(np.abs(thresholds_roc))\n",
    "\n",
    "        fig, (ax1, ax2) = plt.subplots(1,2, figsize=(15, 4))\n",
    "\n",
    "        ax1.plot(precision, recall, label=\"Precision Recall Curve\")\n",
    "        ax1.plot(precision[close_default], \n",
    "                 recall[close_default], 'o', \n",
    "                 c='r', markersize=10, \n",
    "                 label='threshold 0.5', \n",
    "                 fillstyle=\"none\", mew=2)\n",
    "        ax1.set_title(\"RF performance\")\n",
    "        ax1.set_xlabel(\"Precision\")\n",
    "        ax1.set_ylabel(\"Recall\")\n",
    "        ax1.legend(loc='best')\n",
    "\n",
    "        ax2.plot(fp, tp, label=\"ROC curve\")\n",
    "        ax2.plot(fp[close_zero], \n",
    "                 tp[close_zero], 'o', \n",
    "                 c='r', markersize=10, \n",
    "                 label='threshold 0', \n",
    "                 fillstyle=\"none\", mew=2)\n",
    "        ax2.set_title(f\"ROC performance: AUC Score {auc_score}\")\n",
    "        ax2.set_xlabel(\"False Positive Rate\")\n",
    "        ax2.set_ylabel(\"True Positive (Recall)\")\n",
    "        ax2.legend(loc='best')\n",
    "\n",
    "        plt.show();\n",
    "\n",
    "    kfold = KFold(n_splits=5)\n",
    "    cross_val = cross_validate(clf_nb, X, y, cv=kfold, return_estimator=True)\n",
    "    mean_score = cross_val['test_score'].mean()\n",
    "        \n",
    "    dummy_clf = DummyClassifier(strategy=\"most_frequent\")\n",
    "    dummy_clf.fit(X,y)\n",
    "    d_score = dummy_clf.score(X,y)\n",
    "    \n",
    "    graphic = performance_graphics\n",
    "\n",
    "    return d_score, mean_score, graphic"
   ]
  },
  {
   "cell_type": "code",
   "execution_count": null,
   "id": "9ec5f1a4",
   "metadata": {},
   "outputs": [],
   "source": []
  },
  {
   "cell_type": "markdown",
   "id": "a1f9417e",
   "metadata": {},
   "source": [
    "# Compare Datasets\n",
    "\n",
    "Leave commented until all values are in scope, then uncomment and compare. "
   ]
  },
  {
   "cell_type": "code",
   "execution_count": 5,
   "id": "4cad9111",
   "metadata": {},
   "outputs": [
    {
     "data": {
      "text/plain": [
       "0      0\n",
       "1      1\n",
       "2      1\n",
       "3      1\n",
       "4      1\n",
       "      ..\n",
       "591    0\n",
       "592    0\n",
       "593    0\n",
       "594    0\n",
       "595    0\n",
       "Length: 596, dtype: int64"
      ]
     },
     "execution_count": 5,
     "metadata": {},
     "output_type": "execute_result"
    }
   ],
   "source": [
    "y = pd.read_csv('./y_all.csv')\n",
    "# y = pd.read_csv('./y_high.csv')\n",
    "# y = pd.read_csv('./y_mid.csv')\n",
    "# y = pd.read_csv('./y_low.csv')\n",
    "\n",
    "\n",
    "# all recognizes target as a string, others as boolean\n",
    "y = y.apply(lambda x: 1 if x['target'] == 'True' else 0, axis=1)\n",
    "y"
   ]
  },
  {
   "cell_type": "code",
   "execution_count": 6,
   "id": "e9f8f2cc",
   "metadata": {},
   "outputs": [
    {
     "data": {
      "text/html": [
       "<div>\n",
       "<style scoped>\n",
       "    .dataframe tbody tr th:only-of-type {\n",
       "        vertical-align: middle;\n",
       "    }\n",
       "\n",
       "    .dataframe tbody tr th {\n",
       "        vertical-align: top;\n",
       "    }\n",
       "\n",
       "    .dataframe thead th {\n",
       "        text-align: right;\n",
       "    }\n",
       "</style>\n",
       "<table border=\"1\" class=\"dataframe\">\n",
       "  <thead>\n",
       "    <tr style=\"text-align: right;\">\n",
       "      <th></th>\n",
       "      <th>Unnamed: 0</th>\n",
       "      <th>id</th>\n",
       "      <th>number_in_season</th>\n",
       "      <th>number_in_series</th>\n",
       "      <th>original_air_year</th>\n",
       "      <th>season</th>\n",
       "      <th>us_viewers_in_millions</th>\n",
       "      <th>views</th>\n",
       "      <th>Homer Simpson</th>\n",
       "      <th>Marge Simpson</th>\n",
       "      <th>...</th>\n",
       "      <th>Artie Ziff</th>\n",
       "      <th>George H.W. Bush</th>\n",
       "      <th>Director</th>\n",
       "      <th>Scratchy</th>\n",
       "      <th>Marty</th>\n",
       "      <th>Salesman</th>\n",
       "      <th>Dan Gillick</th>\n",
       "      <th>Larry</th>\n",
       "      <th>Dr. Marvin Monroe</th>\n",
       "      <th>Clerk</th>\n",
       "    </tr>\n",
       "  </thead>\n",
       "  <tbody>\n",
       "    <tr>\n",
       "      <th>0</th>\n",
       "      <td>0</td>\n",
       "      <td>10</td>\n",
       "      <td>10.0</td>\n",
       "      <td>10.0</td>\n",
       "      <td>1990.0</td>\n",
       "      <td>1.0</td>\n",
       "      <td>30.3</td>\n",
       "      <td>50816.0</td>\n",
       "      <td>73.0</td>\n",
       "      <td>33.0</td>\n",
       "      <td>...</td>\n",
       "      <td>0.0</td>\n",
       "      <td>0.0</td>\n",
       "      <td>0.0</td>\n",
       "      <td>0.0</td>\n",
       "      <td>0.0</td>\n",
       "      <td>0.0</td>\n",
       "      <td>0.0</td>\n",
       "      <td>0.0</td>\n",
       "      <td>0.0</td>\n",
       "      <td>2.0</td>\n",
       "    </tr>\n",
       "    <tr>\n",
       "      <th>1</th>\n",
       "      <td>1</td>\n",
       "      <td>12</td>\n",
       "      <td>12.0</td>\n",
       "      <td>12.0</td>\n",
       "      <td>1990.0</td>\n",
       "      <td>1.0</td>\n",
       "      <td>30.4</td>\n",
       "      <td>62561.0</td>\n",
       "      <td>31.0</td>\n",
       "      <td>11.0</td>\n",
       "      <td>...</td>\n",
       "      <td>0.0</td>\n",
       "      <td>0.0</td>\n",
       "      <td>1.0</td>\n",
       "      <td>0.0</td>\n",
       "      <td>0.0</td>\n",
       "      <td>0.0</td>\n",
       "      <td>0.0</td>\n",
       "      <td>0.0</td>\n",
       "      <td>0.0</td>\n",
       "      <td>0.0</td>\n",
       "    </tr>\n",
       "    <tr>\n",
       "      <th>2</th>\n",
       "      <td>2</td>\n",
       "      <td>14</td>\n",
       "      <td>1.0</td>\n",
       "      <td>14.0</td>\n",
       "      <td>1990.0</td>\n",
       "      <td>2.0</td>\n",
       "      <td>33.6</td>\n",
       "      <td>59575.0</td>\n",
       "      <td>23.0</td>\n",
       "      <td>15.0</td>\n",
       "      <td>...</td>\n",
       "      <td>0.0</td>\n",
       "      <td>0.0</td>\n",
       "      <td>0.0</td>\n",
       "      <td>0.0</td>\n",
       "      <td>5.0</td>\n",
       "      <td>0.0</td>\n",
       "      <td>0.0</td>\n",
       "      <td>0.0</td>\n",
       "      <td>0.0</td>\n",
       "      <td>0.0</td>\n",
       "    </tr>\n",
       "    <tr>\n",
       "      <th>3</th>\n",
       "      <td>3</td>\n",
       "      <td>17</td>\n",
       "      <td>4.0</td>\n",
       "      <td>17.0</td>\n",
       "      <td>1990.0</td>\n",
       "      <td>2.0</td>\n",
       "      <td>26.1</td>\n",
       "      <td>64959.0</td>\n",
       "      <td>45.0</td>\n",
       "      <td>22.0</td>\n",
       "      <td>...</td>\n",
       "      <td>0.0</td>\n",
       "      <td>0.0</td>\n",
       "      <td>0.0</td>\n",
       "      <td>0.0</td>\n",
       "      <td>0.0</td>\n",
       "      <td>0.0</td>\n",
       "      <td>0.0</td>\n",
       "      <td>0.0</td>\n",
       "      <td>0.0</td>\n",
       "      <td>0.0</td>\n",
       "    </tr>\n",
       "    <tr>\n",
       "      <th>4</th>\n",
       "      <td>4</td>\n",
       "      <td>19</td>\n",
       "      <td>6.0</td>\n",
       "      <td>19.0</td>\n",
       "      <td>1990.0</td>\n",
       "      <td>2.0</td>\n",
       "      <td>25.4</td>\n",
       "      <td>50691.0</td>\n",
       "      <td>91.0</td>\n",
       "      <td>27.0</td>\n",
       "      <td>...</td>\n",
       "      <td>0.0</td>\n",
       "      <td>0.0</td>\n",
       "      <td>0.0</td>\n",
       "      <td>0.0</td>\n",
       "      <td>0.0</td>\n",
       "      <td>0.0</td>\n",
       "      <td>0.0</td>\n",
       "      <td>0.0</td>\n",
       "      <td>0.0</td>\n",
       "      <td>0.0</td>\n",
       "    </tr>\n",
       "  </tbody>\n",
       "</table>\n",
       "<p>5 rows × 108 columns</p>\n",
       "</div>"
      ],
      "text/plain": [
       "   Unnamed: 0  id  number_in_season  number_in_series  original_air_year  \\\n",
       "0           0  10              10.0              10.0             1990.0   \n",
       "1           1  12              12.0              12.0             1990.0   \n",
       "2           2  14               1.0              14.0             1990.0   \n",
       "3           3  17               4.0              17.0             1990.0   \n",
       "4           4  19               6.0              19.0             1990.0   \n",
       "\n",
       "   season  us_viewers_in_millions    views  Homer Simpson  Marge Simpson  ...  \\\n",
       "0     1.0                    30.3  50816.0           73.0           33.0  ...   \n",
       "1     1.0                    30.4  62561.0           31.0           11.0  ...   \n",
       "2     2.0                    33.6  59575.0           23.0           15.0  ...   \n",
       "3     2.0                    26.1  64959.0           45.0           22.0  ...   \n",
       "4     2.0                    25.4  50691.0           91.0           27.0  ...   \n",
       "\n",
       "   Artie Ziff  George H.W. Bush  Director  Scratchy  Marty  Salesman  \\\n",
       "0         0.0               0.0       0.0       0.0    0.0       0.0   \n",
       "1         0.0               0.0       1.0       0.0    0.0       0.0   \n",
       "2         0.0               0.0       0.0       0.0    5.0       0.0   \n",
       "3         0.0               0.0       0.0       0.0    0.0       0.0   \n",
       "4         0.0               0.0       0.0       0.0    0.0       0.0   \n",
       "\n",
       "   Dan Gillick  Larry  Dr. Marvin Monroe  Clerk  \n",
       "0          0.0    0.0                0.0    2.0  \n",
       "1          0.0    0.0                0.0    0.0  \n",
       "2          0.0    0.0                0.0    0.0  \n",
       "3          0.0    0.0                0.0    0.0  \n",
       "4          0.0    0.0                0.0    0.0  \n",
       "\n",
       "[5 rows x 108 columns]"
      ]
     },
     "execution_count": 6,
     "metadata": {},
     "output_type": "execute_result"
    }
   ],
   "source": [
    "X = pd.read_csv('./X_all.csv')\n",
    "# X = pd.read_csv('./X_high.csv')\n",
    "# X = pd.read_csv('./X_mid.csv')\n",
    "#X = pd.read_csv('./X_low.csv')\n",
    "X = X.fillna(0)\n",
    "X.head()"
   ]
  },
  {
   "cell_type": "code",
   "execution_count": 7,
   "id": "57796e3f",
   "metadata": {},
   "outputs": [
    {
     "name": "stdout",
     "output_type": "stream",
     "text": [
      "Using prior probability: None\n"
     ]
    }
   ],
   "source": [
    "d_score, mean_score, graphic = classifier_assessment(X, y)"
   ]
  },
  {
   "cell_type": "code",
   "execution_count": 8,
   "id": "c68aadaf",
   "metadata": {},
   "outputs": [
    {
     "data": {
      "text/plain": [
       "(0.5989932885906041, 0.8053641456582632)"
      ]
     },
     "execution_count": 8,
     "metadata": {},
     "output_type": "execute_result"
    }
   ],
   "source": [
    "d_score, mean_score"
   ]
  },
  {
   "cell_type": "code",
   "execution_count": 9,
   "id": "bdab1471",
   "metadata": {},
   "outputs": [
    {
     "data": {
      "image/png": "[encoded data removed]",
      "text/plain": [
       "<Figure size 1080x288 with 2 Axes>"
      ]
     },
     "metadata": {
      "needs_background": "light"
     },
     "output_type": "display_data"
    }
   ],
   "source": [
    "graphic()"
   ]
  },
  {
   "cell_type": "code",
   "execution_count": null,
   "id": "753ffdea",
   "metadata": {},
   "outputs": [],
   "source": []
  }
 ],
 "metadata": {
  "kernelspec": {
   "display_name": "Python 3",
   "language": "python",
   "name": "python3"
  },
  "language_info": {
   "codemirror_mode": {
    "name": "ipython",
    "version": 3
   },
   "file_extension": ".py",
   "mimetype": "text/x-python",
   "name": "python",
   "nbconvert_exporter": "python",
   "pygments_lexer": "ipython3",
   "version": "3.8.8"
  }
 },
 "nbformat": 4,
 "nbformat_minor": 5
}
